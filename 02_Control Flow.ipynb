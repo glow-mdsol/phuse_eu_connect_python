{
 "cells": [
  {
   "cell_type": "markdown",
   "metadata": {},
   "source": [
    "## Operators\n",
    "\n",
    "Operators are used on variables for accessing, modifying and testing variables."
   ]
  },
  {
   "cell_type": "markdown",
   "metadata": {
    "pycharm": {
     "name": "#%% md\n"
    }
   },
   "source": [
    "### Arithmetic Operators\n",
    "* `+` (addition)\n",
    "* `-` (subtraction)\n",
    "* `*` (multiplication)\n",
    "* `/` (division)\n",
    "* `//` (integer division)\n",
    "* `**` (power)\n",
    "* `%` (modulus)"
   ]
  },
  {
   "cell_type": "code",
   "execution_count": null,
   "metadata": {
    "pycharm": {
     "name": "#%%\n"
    }
   },
   "outputs": [],
   "source": [
    "(1 + 2, 1.0 + 2.0)"
   ]
  },
  {
   "cell_type": "code",
   "execution_count": null,
   "metadata": {
    "pycharm": {
     "name": "#%%\n"
    }
   },
   "outputs": [],
   "source": [
    "(2 - 1, 2.0 - 1.0)"
   ]
  },
  {
   "cell_type": "code",
   "execution_count": null,
   "metadata": {
    "pycharm": {
     "name": "#%%\n"
    }
   },
   "outputs": [],
   "source": [
    "(3 * 4, 3.0 * 4.0)"
   ]
  },
  {
   "cell_type": "code",
   "execution_count": null,
   "metadata": {
    "pycharm": {
     "name": "#%% \n"
    }
   },
   "outputs": [],
   "source": [
    "(3 / 4, 3.0 / 4.0)"
   ]
  },
  {
   "cell_type": "code",
   "execution_count": null,
   "metadata": {
    "pycharm": {
     "name": "#%% \n"
    }
   },
   "outputs": [],
   "source": [
    "(3.0 // 4.0)"
   ]
  },
  {
   "cell_type": "code",
   "execution_count": null,
   "metadata": {
    "pycharm": {
     "name": "#%% \n"
    }
   },
   "outputs": [],
   "source": [
    "(3**2, 3.0**2.0)"
   ]
  },
  {
   "cell_type": "code",
   "execution_count": null,
   "metadata": {
    "pycharm": {
     "name": "#%% \n"
    }
   },
   "outputs": [],
   "source": [
    "( 5 % 2, 5.0 % 2)"
   ]
  },
  {
   "cell_type": "markdown",
   "metadata": {
    "pycharm": {
     "name": "#%% md\n"
    }
   },
   "source": [
    "### Logical Operators\n",
    "* `not` (`!`)\n",
    "* `and` (`&`)\n",
    "* `or` (`|`)\n",
    "* Exclusive or `xor` (`^`)"
   ]
  },
  {
   "cell_type": "code",
   "execution_count": null,
   "metadata": {
    "pycharm": {
     "name": "#%%\n"
    }
   },
   "outputs": [],
   "source": [
    "not True"
   ]
  },
  {
   "cell_type": "code",
   "execution_count": null,
   "metadata": {
    "pycharm": {
     "name": "#%%\n"
    }
   },
   "outputs": [],
   "source": [
    "(True and False, True & False)"
   ]
  },
  {
   "cell_type": "code",
   "execution_count": null,
   "metadata": {
    "pycharm": {
     "name": "#%%\n"
    }
   },
   "outputs": [],
   "source": [
    "(True or False, True | False)"
   ]
  },
  {
   "cell_type": "code",
   "execution_count": null,
   "metadata": {
    "pycharm": {
     "name": "#%%\n"
    }
   },
   "outputs": [],
   "source": [
    "# Exclusive or!\n",
    "(True ^ False, True ^ True, False ^ False)\n"
   ]
  },
  {
   "cell_type": "markdown",
   "metadata": {},
   "source": [
    "### Comparison Operators\n",
    "* `==` equals\n",
    "* `<` less than\n",
    "* `>` greater than\n",
    "* `<=` less than or equal to\n",
    "* `>=` greater than or equal to"
   ]
  },
  {
   "cell_type": "code",
   "execution_count": null,
   "metadata": {
    "pycharm": {
     "name": "#%%\n"
    }
   },
   "outputs": [],
   "source": [
    "a = 1\n",
    "b = 2\n",
    "\n",
    "a == b\n",
    "\n",
    "a < b\n",
    "\n",
    "a > b"
   ]
  },
  {
   "cell_type": "markdown",
   "metadata": {},
   "source": [
    "## Control Flow\n",
    "\n",
    "We need to be able to control the flow of data through our programs.  In order to do this we make use of keywords called control operators"
   ]
  },
  {
   "cell_type": "markdown",
   "metadata": {},
   "source": [
    "### Conditional Statements: if, elif and else\n",
    "\n",
    "We can use the `if` keyword to conditionally execute code; the action of `if`, `elif` and `else` are the same as those in other languages "
   ]
  },
  {
   "cell_type": "code",
   "execution_count": null,
   "metadata": {},
   "outputs": [],
   "source": [
    "# Setup the scenario\n",
    "\n",
    "value = 6\n",
    "\n",
    "# Note: the execution will only take one of the paths here\n",
    "if value < 5:\n",
    "    print(\"Value is less than 5\")\n",
    "elif 6 < value <= 10:\n",
    "    # this is short-hand for if value > 6 and value <= 10\n",
    "    print(\"Value is between 5 and 10\")\n",
    "else:\n",
    "    print(\"Value is greater than 10\")\n"
   ]
  },
  {
   "cell_type": "markdown",
   "metadata": {},
   "source": [
    "Two things to note here:\n",
    "* Python uses indentation to designate code blocks (more on this in a minute)\n",
    "* This code has a bug - can you spot it and fix it?\n",
    "\n",
    "Blocks define a local context"
   ]
  },
  {
   "cell_type": "code",
   "execution_count": 5,
   "metadata": {},
   "outputs": [
    {
     "name": "stdout",
     "output_type": "stream",
     "text": [
      "4\n"
     ]
    }
   ],
   "source": [
    "# Setup the scenario\n",
    "tonk = 1\n",
    "blue = 2\n",
    "\n",
    "if blue == 1:\n",
    "    tonk += 2\n",
    "else:\n",
    "    tonk += 3\n",
    "\n",
    "print(tonk)"
   ]
  },
  {
   "cell_type": "markdown",
   "metadata": {},
   "source": [
    "### Loops\n",
    "\n",
    "Loops in python operate in the same way as other languages; the keywords are `for` and `while`.  Both keywords operate on `iterable` types\n"
   ]
  },
  {
   "cell_type": "code",
   "execution_count": 9,
   "metadata": {},
   "outputs": [
    {
     "name": "stdout",
     "output_type": "stream",
     "text": [
      "x is 1\n",
      "x is 2\n",
      "x is 3\n",
      "y is 1\n",
      "y is 2\n",
      "y is 3\n",
      "p is  a\n",
      "p is  b\n",
      "p is  c\n"
     ]
    }
   ],
   "source": [
    "# Lists are iterable\n",
    "for x in [1, 2, 3]:\n",
    "    print(\"x is\", x)\n",
    "\n",
    "# Tuples are iterable\n",
    "for y in (1, 2, 3):\n",
    "    print(\"y is\", y)\n",
    "\n",
    "d = dict(a=1, b=2, c=3)\n",
    "# Dictionaries are also iterable\n",
    "for p in d:\n",
    "    print(\"p is \", p)"
   ]
  },
  {
   "cell_type": "code",
   "execution_count": 7,
   "metadata": {},
   "outputs": [
    {
     "name": "stdout",
     "output_type": "stream",
     "text": [
      "0\n",
      "1\n",
      "3\n",
      "6\n",
      "10\n",
      "15\n",
      "21\n",
      "28\n",
      "36\n",
      "45\n",
      "55\n",
      "66\n",
      "78\n",
      "91\n",
      "105\n",
      "120\n",
      "136\n",
      "153\n",
      "171\n",
      "190\n",
      "210\n",
      "231\n",
      "253\n",
      "276\n",
      "300\n",
      "Total for 24! is 300\n"
     ]
    }
   ],
   "source": [
    "# Setup scenario\n",
    "c = 0\n",
    "\n",
    "for i in range(25):\n",
    "    c += i\n",
    "    print(c)\n",
    "else:\n",
    "    # else is a statement that is automatically run on the last iteration\n",
    "    print(\"Total for {}! is {}\".format(i, c))"
   ]
  },
  {
   "cell_type": "markdown",
   "metadata": {},
   "source": [
    "Check out the `help` for the `range` function\n",
    "\n",
    "`while` loops execute until the test defined on the loop is satisfied"
   ]
  },
  {
   "cell_type": "code",
   "execution_count": 11,
   "metadata": {},
   "outputs": [
    {
     "name": "stdout",
     "output_type": "stream",
     "text": [
      "The last factorial less than 200 is 21\n"
     ]
    }
   ],
   "source": [
    "# Setup the test\n",
    "\n",
    "# Carry over the totals\n",
    "total = 0 \n",
    "# use a counter for the factorial\n",
    "counter = 0\n",
    "# define our threshold value\n",
    "threshold = 200\n",
    "\n",
    "while total < threshold:\n",
    "    total += counter\n",
    "    counter += 1\n",
    "print(\"The last factorial less than\",threshold,\"is\",counter)"
   ]
  },
  {
   "cell_type": "code",
   "execution_count": null,
   "metadata": {},
   "outputs": [],
   "source": [
    "## Uses of Control Flow and Operators "
   ]
  },
  {
   "cell_type": "markdown",
   "metadata": {},
   "source": [
    "### Searching for a value in a Tuple or List\n",
    "\n",
    "Both lists and tuples are iterable elements.  This means you can iterate over the set of values.  \n",
    "\n",
    "Let's use this to check and see if a value is in a list (for the purposes of this exercise we'll consider tuples and lists interchangeably) using our control loops "
   ]
  },
  {
   "cell_type": "code",
   "execution_count": null,
   "metadata": {},
   "outputs": [],
   "source": [
    "# define our list to search\n",
    "l = [1, 3, 4, 7, 12, 19, 25]\n",
    "\n",
    "# initialise our variable \n",
    "found = False\n",
    "search_value = 12\n",
    "\n",
    "# now, iterate over the values using a for loop\n",
    "for value in l:\n",
    "    if value == search_value:\n",
    "        found = True  # found our value, mark the search as a success\n",
    "# use a conditional statement to trigger the switch\n",
    "\n",
    "if found is True:  # comparison in the case of boolean variables should use is rather than ==\n",
    "    print(\"Found value\", search_value, \"in\", l)\n",
    "else:  # didn't find the value, report that\n",
    "    print(\"Didn't find value\", search_value, \"in\", l)"
   ]
  },
  {
   "cell_type": "markdown",
   "metadata": {},
   "source": [
    "We can short circuit the search somewhat!"
   ]
  },
  {
   "cell_type": "code",
   "execution_count": null,
   "metadata": {},
   "outputs": [],
   "source": [
    "# define our list to search\n",
    "l = [1, 3, 4, 7, 12, 19, 25]\n",
    "\n",
    "# initialise our variable \n",
    "found = False\n",
    "search_value = 12\n",
    "\n",
    "# now, iterate over the values using a for loop\n",
    "for value in l:\n",
    "    if value == search_value:\n",
    "        found = True  # found our value, mark the search as a success\n",
    "        break         # break stops the iteration\n",
    "\n",
    "if found is True:  # comparison in the case of boolean variables should use is rather than ==\n",
    "    print(\"Found value\", search_value, \"in\", l)\n",
    "else:  # didn't find the value, report that\n",
    "    print(\"Didn't find value\", search_value, \"in\", l)"
   ]
  },
  {
   "cell_type": "markdown",
   "metadata": {},
   "source": [
    "And for the simplest"
   ]
  },
  {
   "cell_type": "code",
   "execution_count": null,
   "metadata": {},
   "outputs": [],
   "source": [
    "# define our list to search\n",
    "l = [1, 3, 4, 7, 12, 19, 25]\n",
    "\n",
    "# initialise our variable \n",
    "search_value = 12\n",
    "\n",
    "# now, iterate over the values using a for loop\n",
    "for value in l:\n",
    "    if value == search_value:\n",
    "        print(\"Found value\", search_value, \"in\", l)\n",
    "        break         # break stops the iteration\n",
    "else:\n",
    "    # else runs at the end of the iteration\n",
    "    print(\"Didn't find value\", search_value, \"in\", l)"
   ]
  },
  {
   "cell_type": "markdown",
   "metadata": {},
   "source": [
    "Say we wanted to know whereabouts the value we searched for is; we can use the `enumerate` function "
   ]
  },
  {
   "cell_type": "code",
   "execution_count": 7,
   "metadata": {},
   "outputs": [
    {
     "name": "stdout",
     "output_type": "stream",
     "text": [
      "Found value 12 at position 4\n"
     ]
    }
   ],
   "source": [
    "# define our list to search\n",
    "l = [1, 3, 4, 7, 12, 19, 25]\n",
    "\n",
    "# initialise our variable \n",
    "search_value = 12\n",
    "\n",
    "# the enumerate function wraps the iteration, and returns a tuple; the index of the current value and the value\n",
    "for i, value in enumerate(l):\n",
    "    if value == search_value:\n",
    "        print(\"Found value\", search_value, \"at position\", i)\n",
    "        break         # break stops the iteration\n",
    "else:\n",
    "    # else runs at the end of the iteration\n",
    "    print(\"Didn't find value\", search_value, \"in\", l)"
   ]
  },
  {
   "cell_type": "markdown",
   "metadata": {},
   "source": [
    "`enumerate` takes a `start` argument, which tells the interpreter what value to start on - by default it is 0\n",
    "\n",
    "Those of you who have read ahead will know an easier way..."
   ]
  },
  {
   "cell_type": "code",
   "execution_count": 8,
   "metadata": {},
   "outputs": [
    {
     "name": "stdout",
     "output_type": "stream",
     "text": [
      "Found value 12 at 4\n"
     ]
    }
   ],
   "source": [
    "# define our list to search\n",
    "l = [1, 3, 4, 7, 12, 19, 25]\n",
    "\n",
    "# the in operator implements a search for a value\n",
    "if 12 in l:\n",
    "    # the index accessor on an iterable returns the first location the value is found\n",
    "    print(\"Found value\", search_value, \"at position\", l.index(12))  \n",
    "else:\n",
    "    print(\"Didn't find value\", search_value, \"in\", l)"
   ]
  },
  {
   "cell_type": "markdown",
   "metadata": {},
   "source": [
    "Now, an exercise for you!  Using what we've discussed prior, create the code to work out the mean for the following list:"
   ]
  },
  {
   "cell_type": "code",
   "execution_count": null,
   "metadata": {},
   "outputs": [],
   "source": [
    "c = [23, -57, -87, -17, 29, -5, 22, 66, -52, -9, 63, -47, 64, -83, 55, -15, 91, 39, -66, -28, 34, -65, 42, -94, 62, 1, 71, -79, -29, -32, 45, -50, -51, 5, -39, 45, -29, -38, -70, -58, -57, 35, -18, -72, -43, -34, -63, 74, -36, 70]\n"
   ]
  },
  {
   "cell_type": "markdown",
   "metadata": {},
   "source": [
    "### List comprehensions\n",
    "List comprehensions are a bit of **syntatic sugar**, it allows you to create a list according to a function.  As an example; if we wanted to get all the positive values for `c` we can use the following list comprehension"
   ]
  },
  {
   "cell_type": "code",
   "execution_count": null,
   "metadata": {},
   "outputs": [],
   "source": [
    "positive_c = [x for x in c if x >= 0]"
   ]
  },
  {
   "cell_type": "markdown",
   "metadata": {},
   "source": [
    "Or, get the absolute values for all the elements (note, this doesn't change the original list)"
   ]
  },
  {
   "cell_type": "code",
   "execution_count": null,
   "metadata": {},
   "outputs": [],
   "source": [
    "abs_val = [abs(x) for x in c]  # abs is a python builtin to take the absolute value"
   ]
  },
  {
   "cell_type": "markdown",
   "metadata": {},
   "source": [
    "Loops with dictionaries are a little different"
   ]
  },
  {
   "cell_type": "code",
   "execution_count": 15,
   "metadata": {},
   "outputs": [
    {
     "name": "stdout",
     "output_type": "stream",
     "text": [
      "Fruit -> ['Tomato', 'Pear', 'Apple']\n",
      "Vegetable -> ['Carrot', 'Parsnip']\n",
      "Pet -> ['Dog', 'Cat', 'Budgie', 'Dog', 'Cat', 'Budgie']\n",
      "Computer -> ['Mac', 'PC', 'Commodore64']\n",
      "Fruit\n",
      "Vegetable\n",
      "Pet\n",
      "Computer\n",
      "['Tomato', 'Pear', 'Apple']\n",
      "['Carrot', 'Parsnip']\n",
      "['Dog', 'Cat', 'Budgie', 'Dog', 'Cat', 'Budgie']\n",
      "['Mac', 'PC', 'Commodore64']\n"
     ]
    }
   ],
   "source": [
    "# items returns a tuple of key and value pairs\n",
    "for category, values in t.items():\n",
    "    print(category, \"->\", values)\n",
    "\n",
    "# keys returns the list of keys\n",
    "for category in t.keys():\n",
    "    print(category)\n",
    "\n",
    "# values returns a list of the values\n",
    "for values in t.values():\n",
    "    print(values)\n"
   ]
  },
  {
   "cell_type": "markdown",
   "metadata": {},
   "source": [
    "The `in` accessor defaults to using the keys"
   ]
  },
  {
   "cell_type": "code",
   "execution_count": 17,
   "metadata": {},
   "outputs": [
    {
     "name": "stdout",
     "output_type": "stream",
     "text": [
      "True\n",
      "False\n",
      "False\n"
     ]
    }
   ],
   "source": [
    "print(\"Computer\" in t)\n",
    "print(\"Astronaut\" in t)\n",
    "print(\"Parsnip\" in t)"
   ]
  },
  {
   "cell_type": "markdown",
   "metadata": {},
   "source": [
    "## Sets\n",
    "\n",
    "Sets are a type of collection, but make the use of set operations much more straight forward.  \n"
   ]
  },
  {
   "cell_type": "code",
   "execution_count": 5,
   "metadata": {},
   "outputs": [
    {
     "name": "stdout",
     "output_type": "stream",
     "text": [
      "{1, 3, 5, 7, 9}\n",
      "{1, 3}\n",
      "{9, 5, 7}\n",
      "False\n",
      "{1, 2, 3, 5, 7, 9, 12, 15}\n"
     ]
    }
   ],
   "source": [
    "a = [1, 1, 3, 5, 7, 9]\n",
    "b = [1, 2, 3, 12, 15]\n",
    "\n",
    "# note the deduplication\n",
    "print(set(a))\n",
    "\n",
    "# intersection\n",
    "print(set(a).intersection(set(b)))\n",
    "\n",
    "# difference\n",
    "print(set(a).difference(set(b)))\n",
    "\n",
    "# disjoint\n",
    "print(set(a).isdisjoint(set(b)))\n",
    "\n",
    "# union\n",
    "print(set(a).union(set(b)))"
   ]
  },
  {
   "cell_type": "markdown",
   "metadata": {},
   "source": [
    "## Gotchas\n",
    "\n",
    "A few things you should be aware of and plan to mitigate against.\n",
    "\n",
    "### Inherent Truthiness in Python\n",
    "\n",
    "In other languages only boolean or 1/0 types can be used for tests of truth.  Python can be a little more flexible"
   ]
  },
  {
   "cell_type": "code",
   "execution_count": 18,
   "metadata": {},
   "outputs": [
    {
     "name": "stdout",
     "output_type": "stream",
     "text": [
      "A is True\n",
      "A is True\n",
      "A is True\n"
     ]
    }
   ],
   "source": [
    "a = True\n",
    "\n",
    "if a:\n",
    "    print(\"A is True\")\n",
    "\n",
    "a = 1\n",
    "\n",
    "if a:\n",
    "    print(\"A is True\")\n",
    "\n",
    "a = \"False\"\n",
    "\n",
    "if a:\n",
    "    print(\"A is True\")"
   ]
  },
  {
   "cell_type": "code",
   "execution_count": 19,
   "metadata": {},
   "outputs": [
    {
     "name": "stdout",
     "output_type": "stream",
     "text": [
      "A is False\n",
      "A is False\n",
      "A is False\n"
     ]
    }
   ],
   "source": [
    "a = False\n",
    "\n",
    "if not a:\n",
    "    print(\"A is False\")\n",
    "\n",
    "a = 0\n",
    "if not a:\n",
    "    print(\"A is False\")\n",
    "\n",
    "a = \"\"\n",
    "if not a:\n",
    "    print(\"A is False\")\n",
    "\n"
   ]
  },
  {
   "cell_type": "markdown",
   "metadata": {},
   "source": [
    "You don't have to initialise a variable in Python; in cases where you might want to protect your program you can initialise a variable with a value `None`.  You can then use `a is None` or `a is not None` to establish that a variable has been set or otherwise. "
   ]
  },
  {
   "cell_type": "markdown",
   "metadata": {},
   "source": [
    "### "
   ]
  }
 ],
 "metadata": {
  "kernelspec": {
   "display_name": "Python 3",
   "language": "python",
   "name": "python3"
  },
  "language_info": {
   "codemirror_mode": {
    "name": "ipython",
    "version": 3
   },
   "file_extension": ".py",
   "mimetype": "text/x-python",
   "name": "python",
   "nbconvert_exporter": "python",
   "pygments_lexer": "ipython3",
   "version": "3.7.4"
  },
  "pycharm": {
   "stem_cell": {
    "cell_type": "raw",
    "metadata": {
     "collapsed": false
    },
    "source": []
   }
  }
 },
 "nbformat": 4,
 "nbformat_minor": 1
}

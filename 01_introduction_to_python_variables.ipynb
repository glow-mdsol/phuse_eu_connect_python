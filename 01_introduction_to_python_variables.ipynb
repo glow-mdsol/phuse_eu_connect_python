{
 "cells": [
  {
   "cell_type": "markdown",
   "metadata": {
    "collapsed": true,
    "pycharm": {
     "name": "#%% md\n"
    }
   },
   "source": [
    "# Welcome to the PhUSE EU Connect introduction to Python Course\n",
    "\n",
    "This course will cover a primer on the Python Language with a focus on topics relevant to Data Analysis and Management.\n",
    "\n",
    "## About Python\n",
    "Python is an open-source programming language that was created and first released in 1991 by [Guido van Rossum](https://en.wikipedia.org/wiki/Guido_van_Rossum) \n",
    "\n",
    "It is an interpreted language, it does not require a separate compilation step (turning source code into machine code)\n",
    "\n",
    "It is supported on pretty much every platform, as well as through the use of cloud computing platforms loading and executing Jupyter Notebooks"
   ]
  },
  {
   "cell_type": "markdown",
   "metadata": {},
   "source": [
    "## Let's start!\n",
    "\n",
    "Manipulating values in any language is done through the use of variables and operations.\n",
    "\n",
    "### Variables\n",
    "\n",
    "A variable is a holder for data and allows the programmer to pass around references to the data.  \n",
    "Variables are generally said to be:\n",
    "* **mutable** - a variable can be changed after creation\n",
    "* **immutable** - a variable is fixed and unchangeable (there's nothing to stop you overwriting it)\n",
    "\n",
    "Variables have data types; Python is a little unusual with respect to its type system.  It has a loose typing system.  \n",
    "\n",
    "This means:\n",
    "* You don't have to declare what type a variable is - the interpreter will work it out as you *assign* the variable a value\n",
    "\n",
    "`type` is a function, it returns the python type for a variable instance.\n",
    "\n",
    "Following this are a set of assigments for the python fundamental types.\n"
   ]
  },
  {
   "cell_type": "code",
   "execution_count": 1,
   "metadata": {
    "pycharm": {
     "name": "#%%\n"
    }
   },
   "outputs": [
    {
     "data": {
      "text/plain": [
       "int"
      ]
     },
     "execution_count": 1,
     "metadata": {},
     "output_type": "execute_result"
    }
   ],
   "source": [
    "# first off - an integer\n",
    "a = 1\n",
    "type(a)"
   ]
  },
  {
   "cell_type": "code",
   "execution_count": 2,
   "metadata": {
    "pycharm": {
     "name": "#%%\n"
    }
   },
   "outputs": [
    {
     "data": {
      "text/plain": [
       "float"
      ]
     },
     "execution_count": 2,
     "metadata": {},
     "output_type": "execute_result"
    }
   ],
   "source": [
    "# next a float\n",
    "a = 1.1\n",
    "type(a)"
   ]
  },
  {
   "cell_type": "code",
   "execution_count": 3,
   "metadata": {
    "pycharm": {
     "name": "#%%\n"
    }
   },
   "outputs": [
    {
     "data": {
      "text/plain": [
       "str"
      ]
     },
     "execution_count": 3,
     "metadata": {},
     "output_type": "execute_result"
    }
   ],
   "source": [
    "# next a string\n",
    "a = \"1\"\n",
    "type(a)"
   ]
  },
  {
   "cell_type": "code",
   "execution_count": 4,
   "metadata": {
    "pycharm": {
     "name": "#%%\n"
    }
   },
   "outputs": [
    {
     "data": {
      "text/plain": [
       "bool"
      ]
     },
     "execution_count": 4,
     "metadata": {},
     "output_type": "execute_result"
    }
   ],
   "source": [
    "# next a boolean\n",
    "a = True\n",
    "type(a)"
   ]
  },
  {
   "cell_type": "code",
   "execution_count": 6,
   "metadata": {
    "pycharm": {
     "name": "#%%\n"
    }
   },
   "outputs": [
    {
     "name": "stdout",
     "output_type": "stream",
     "text": [
      "<class 'complex'>\n",
      "1.0 -1.0\n"
     ]
    }
   ],
   "source": [
    "# next a complex number\n",
    "a = 1.0 - 1.0j\n",
    "print(type(a))\n",
    "print(a.real, a.imag)"
   ]
  },
  {
   "cell_type": "markdown",
   "metadata": {},
   "source": [
    "In each of these cases we have not declared up front what `type` of variable `a` is - we assign the value to the variable and python has worked it out\n",
    "\n",
    "The type of variable is important when you want to use it, in these examples we use the increment operator `+=` to "
   ]
  },
  {
   "cell_type": "code",
   "execution_count": null,
   "metadata": {
    "pycharm": {
     "name": "#%%\n"
    }
   },
   "outputs": [],
   "source": [
    "# note that += 1 is a shorthand for a = a + 1 (+= is an operator)\n",
    "a = 1\n",
    "a += 1\n",
    "a"
   ]
  },
  {
   "cell_type": "code",
   "execution_count": null,
   "metadata": {
    "pycharm": {
     "name": "#%%\n"
    }
   },
   "outputs": [],
   "source": [
    "# a bit strange\n",
    "a = 1.1\n",
    "a += 1\n",
    "a"
   ]
  },
  {
   "cell_type": "code",
   "execution_count": null,
   "metadata": {
    "pycharm": {
     "name": "#%%\n"
    }
   },
   "outputs": [],
   "source": [
    "# very strange\n",
    "a = \"1\"\n",
    "a += 1\n",
    "a"
   ]
  },
  {
   "cell_type": "code",
   "execution_count": null,
   "metadata": {
    "pycharm": {
     "name": "#%%\n"
    }
   },
   "outputs": [],
   "source": [
    "# are you out of your mind???\n",
    "a = True\n",
    "a += 1\n",
    "a"
   ]
  },
  {
   "cell_type": "markdown",
   "metadata": {},
   "source": [
    "Note that Python has just worked it out where it makes sense, and if it doesn't make sense then it throws an error (which you can anticipate and handle, but more on that later)"
   ]
  },
  {
   "cell_type": "markdown",
   "metadata": {},
   "source": [
    "## Type casting\n",
    "Python will try to do the right thing when you attempt to use a variable as a different type.  Changing the type of variable is called *casting*"
   ]
  },
  {
   "cell_type": "code",
   "execution_count": null,
   "metadata": {
    "pycharm": {
     "name": "#%%\n"
    }
   },
   "outputs": [],
   "source": [
    "x = 1.5     # a float \n",
    "print(x, type(x))"
   ]
  },
  {
   "cell_type": "code",
   "execution_count": null,
   "metadata": {
    "pycharm": {
     "name": "#%%\n"
    }
   },
   "outputs": [],
   "source": [
    "x = int(x) # cast the float to an int - note the cast to int will floor the value\n",
    "print(x, type(x))\n"
   ]
  },
  {
   "cell_type": "markdown",
   "metadata": {},
   "source": [
    "## Operators"
   ]
  },
  {
   "cell_type": "markdown",
   "metadata": {
    "pycharm": {
     "name": "#%% md\n"
    }
   },
   "source": [
    "### Arithmetic Operators\n",
    "* `+` (addition)\n",
    "* `-` (subtraction)\n",
    "* `*` (multiplication)\n",
    "* `/` (division)\n",
    "* `//` (integer division)\n",
    "* `**` (power)\n",
    "* `%` (modulus)"
   ]
  },
  {
   "cell_type": "code",
   "execution_count": null,
   "metadata": {
    "pycharm": {
     "name": "#%%\n"
    }
   },
   "outputs": [],
   "source": [
    "(1 + 2, 1.0 + 2.0)"
   ]
  },
  {
   "cell_type": "code",
   "execution_count": null,
   "metadata": {
    "pycharm": {
     "name": "#%%\n"
    }
   },
   "outputs": [],
   "source": [
    "(2 - 1, 2.0 - 1.0)"
   ]
  },
  {
   "cell_type": "code",
   "execution_count": null,
   "metadata": {
    "pycharm": {
     "name": "#%%\n"
    }
   },
   "outputs": [],
   "source": [
    "(3 * 4, 3.0 * 4.0)"
   ]
  },
  {
   "cell_type": "code",
   "execution_count": null,
   "metadata": {
    "pycharm": {
     "name": "#%% \n"
    }
   },
   "outputs": [],
   "source": [
    "(3 / 4, 3.0 / 4.0)"
   ]
  },
  {
   "cell_type": "code",
   "execution_count": null,
   "metadata": {
    "pycharm": {
     "name": "#%% \n"
    }
   },
   "outputs": [],
   "source": [
    "(3.0 // 4.0)"
   ]
  },
  {
   "cell_type": "code",
   "execution_count": null,
   "metadata": {
    "pycharm": {
     "name": "#%% \n"
    }
   },
   "outputs": [],
   "source": [
    "(3**2, 3.0**2.0)"
   ]
  },
  {
   "cell_type": "code",
   "execution_count": null,
   "metadata": {
    "pycharm": {
     "name": "#%% \n"
    }
   },
   "outputs": [],
   "source": [
    "( 5 % 2, 5.0 % 2)"
   ]
  },
  {
   "cell_type": "markdown",
   "metadata": {
    "pycharm": {
     "name": "#%% md\n"
    }
   },
   "source": [
    "### Logical Operators\n",
    "* `not` (`!`)\n",
    "* `and` (`&`)\n",
    "* `or` (`|`)\n",
    "* xor (`^`)"
   ]
  },
  {
   "cell_type": "code",
   "execution_count": null,
   "metadata": {
    "pycharm": {
     "name": "#%%\n"
    }
   },
   "outputs": [],
   "source": [
    "not True"
   ]
  },
  {
   "cell_type": "code",
   "execution_count": null,
   "metadata": {
    "pycharm": {
     "name": "#%%\n"
    }
   },
   "outputs": [],
   "source": [
    "(True and False, True & False)"
   ]
  },
  {
   "cell_type": "code",
   "execution_count": null,
   "metadata": {
    "pycharm": {
     "name": "#%%\n"
    }
   },
   "outputs": [],
   "source": [
    "(True or False, True | False)"
   ]
  },
  {
   "cell_type": "code",
   "execution_count": null,
   "metadata": {
    "pycharm": {
     "name": "#%%\n"
    }
   },
   "outputs": [],
   "source": [
    "# Exclusive or!\n",
    "(True ^ False, True ^ True, False ^ False)\n"
   ]
  },
  {
   "cell_type": "markdown",
   "metadata": {},
   "source": [
    "### Comparison Operators\n",
    "* `==` equals\n",
    "* `<` less than\n",
    "* `>` greater than\n",
    "* `<=` less than or equal to\n",
    "* `>=` greater than or equal to"
   ]
  },
  {
   "cell_type": "code",
   "execution_count": null,
   "metadata": {
    "pycharm": {
     "name": "#%%\n"
    }
   },
   "outputs": [],
   "source": [
    "a = 1\n",
    "b = 2\n",
    "\n",
    "a == b\n",
    "\n",
    "a < b\n",
    "\n",
    "a > b"
   ]
  },
  {
   "cell_type": "markdown",
   "metadata": {
    "pycharm": {
     "name": "#%% md\n"
    }
   },
   "source": [
    "## Compound Types\n",
    "Compound types are multi-valued variable # TODO: Fix this\n",
    "\n",
    "The three core compound types in Python are:\n",
    "* Lists \n",
    "* Tuples \n",
    "* Dictionaries\n",
    "\n",
    "There are different use cases for each of these which we'll go through now:\n",
    "\n",
    "### Lists\n",
    "Python lists are simply, lists of values. "
   ]
  },
  {
   "cell_type": "code",
   "execution_count": null,
   "metadata": {
    "pycharm": {
     "name": "#%%\n"
    }
   },
   "outputs": [],
   "source": [
    "# a is a list\n",
    "a = [1,2,3,4,5]\n",
    "# get the length of a\n",
    "len(a)\n",
    "# get the maximum value of a\n",
    "max(a)\n",
    "# get the minimum value of a\n",
    "min(a)\n",
    "\n",
    "# Lists can be updated using the `append` method\n",
    "a.append(8)\n",
    "\n",
    "print(a)\n",
    "\n",
    "# lists can also be extended\n",
    "b = [12, 14, 18]\n",
    "a.extend(b)\n",
    "\n",
    "print(a)"
   ]
  },
  {
   "cell_type": "markdown",
   "metadata": {
    "pycharm": {
     "name": "#%% md\n"
    }
   },
   "source": [
    "### Tuples\n",
    "Tuples are similar to lists, with the notable exception of being immutable"
   ]
  },
  {
   "cell_type": "code",
   "execution_count": null,
   "metadata": {
    "pycharm": {
     "name": "#%%\n"
    }
   },
   "outputs": [],
   "source": [
    "# tuples are created using `(` and `)`\n",
    "a = (1,2,3,4,5)\n",
    "\n",
    "# get the length of a\n",
    "len(a)\n",
    "# get the maximum value of a\n",
    "max(a)\n",
    "# get the minimum value of a\n",
    "min(a)\n",
    "# Get the arithmetic sum of the a\n",
    "sum(a)\n",
    "\n",
    "# you cannot change a tuple\n",
    "a.append(2)"
   ]
  },
  {
   "cell_type": "markdown",
   "metadata": {
    "pycharm": {
     "name": "#%% md\n"
    }
   },
   "source": [
    "#### Using Lists and Tuples\n",
    "\n",
    "When you want to use a list or tuple you can access elements by index (**NOTE**, python is 0-index based)"
   ]
  },
  {
   "cell_type": "code",
   "execution_count": null,
   "metadata": {
    "pycharm": {
     "name": "#%%\n"
    }
   },
   "outputs": [],
   "source": [
    "l = [1,2,3,4,5]\n",
    "t = (5,4,3,2,1)\n",
    "print(l[0])  # Get the first element\n",
    "print(t[0])  # Get the first element"
   ]
  },
  {
   "cell_type": "markdown",
   "metadata": {
    "pycharm": {
     "name": "#%% md\n"
    }
   },
   "source": [
    "You can also take slices"
   ]
  },
  {
   "cell_type": "code",
   "execution_count": null,
   "metadata": {
    "pycharm": {
     "name": "#%%\n"
    }
   },
   "outputs": [],
   "source": [
    "print(l[1:3]) # take the 2nd to 4th element\n",
    "print(t[1:3]) # take the 2nd to 4th element"
   ]
  },
  {
   "cell_type": "markdown",
   "metadata": {
    "pycharm": {
     "name": "#%% md\n"
    }
   },
   "source": [
    "If you want to get elements from the tail of the list/tuple use negative indices"
   ]
  },
  {
   "cell_type": "code",
   "execution_count": null,
   "metadata": {
    "pycharm": {
     "name": "#%%\n"
    }
   },
   "outputs": [],
   "source": [
    "print(l[-1])  # the last element\n",
    "print(t[-1])  # the last element"
   ]
  },
  {
   "cell_type": "markdown",
   "metadata": {
    "pycharm": {
     "name": "#%% md\n"
    }
   },
   "source": [
    "The `:` character can be greedy"
   ]
  },
  {
   "cell_type": "code",
   "execution_count": null,
   "metadata": {
    "pycharm": {
     "name": "#%%\n"
    }
   },
   "outputs": [],
   "source": [
    "print(l[-2:]) # take the last two elements\n",
    "print(t[-2:]) # take the last two elements"
   ]
  },
  {
   "cell_type": "markdown",
   "metadata": {},
   "source": [
    "### Searching for a value in a Tuple or List\n",
    "\n",
    "Both lists and tuples are iterable elements.  This means you can iterate over the set of values.  \n",
    "\n",
    "Let's use this to check and see if a value is in a list (for the purposes of this exercise we'll consider tuples and lists interchangeably)"
   ]
  },
  {
   "cell_type": "code",
   "execution_count": null,
   "metadata": {},
   "outputs": [],
   "source": [
    "# define our list to search\n",
    "l = [1, 3, 4, 7, 12, 19, 25]\n",
    "\n",
    "# initialise our variable \n",
    "found = False\n",
    "search_value = 12\n",
    "\n",
    "# now, iterate over the values using a for loop\n",
    "for value in l:\n",
    "    if value == search_value:\n",
    "        found = True  # found our value, mark the search as a success\n",
    "# use a conditional statement to trigger the switch\n",
    "\n",
    "if found is True:  # comparison in the case of boolean variables should use is rather than ==\n",
    "    print(\"Found value\", search_value, \"in\", l)\n",
    "else:  # didn't find the value, report that\n",
    "    print(\"Didn't find value\", search_value, \"in\", l)"
   ]
  },
  {
   "cell_type": "markdown",
   "metadata": {},
   "source": [
    "We can short circuit the search somewhat!"
   ]
  },
  {
   "cell_type": "code",
   "execution_count": null,
   "metadata": {},
   "outputs": [],
   "source": [
    "# define our list to search\n",
    "l = [1, 3, 4, 7, 12, 19, 25]\n",
    "\n",
    "# initialise our variable \n",
    "found = False\n",
    "search_value = 12\n",
    "\n",
    "# now, iterate over the values using a for loop\n",
    "for value in l:\n",
    "    if value == search_value:\n",
    "        found = True  # found our value, mark the search as a success\n",
    "        break         # break stops the iteration\n",
    "\n",
    "if found is True:  # comparison in the case of boolean variables should use is rather than ==\n",
    "    print(\"Found value\", search_value, \"in\", l)\n",
    "else:  # didn't find the value, report that\n",
    "    print(\"Didn't find value\", search_value, \"in\", l)"
   ]
  },
  {
   "cell_type": "markdown",
   "metadata": {},
   "source": [
    "And for the simplest"
   ]
  },
  {
   "cell_type": "code",
   "execution_count": null,
   "metadata": {},
   "outputs": [],
   "source": [
    "# define our list to search\n",
    "l = [1, 3, 4, 7, 12, 19, 25]\n",
    "\n",
    "# initialise our variable \n",
    "search_value = 12\n",
    "\n",
    "# now, iterate over the values using a for loop\n",
    "for value in l:\n",
    "    if value == search_value:\n",
    "        print(\"Found value\", search_value, \"in\", l)\n",
    "        break         # break stops the iteration\n",
    "else:\n",
    "    # else runs at the end of the iteration\n",
    "    print(\"Didn't find value\", search_value, \"in\", l)"
   ]
  },
  {
   "cell_type": "markdown",
   "metadata": {},
   "source": [
    "Say we wanted to know whereabouts the value we searched for is; we can use the `enumerate` function "
   ]
  },
  {
   "cell_type": "code",
   "execution_count": 7,
   "metadata": {},
   "outputs": [
    {
     "name": "stdout",
     "output_type": "stream",
     "text": [
      "Found value 12 at position 4\n"
     ]
    }
   ],
   "source": [
    "# define our list to search\n",
    "l = [1, 3, 4, 7, 12, 19, 25]\n",
    "\n",
    "# initialise our variable \n",
    "search_value = 12\n",
    "\n",
    "# the enumerate function wraps the iteration, and returns a tuple; the index of the current value and the value\n",
    "for i, value in enumerate(l):\n",
    "    if value == search_value:\n",
    "        print(\"Found value\", search_value, \"at position\", i)\n",
    "        break         # break stops the iteration\n",
    "else:\n",
    "    # else runs at the end of the iteration\n",
    "    print(\"Didn't find value\", search_value, \"in\", l)"
   ]
  },
  {
   "cell_type": "markdown",
   "metadata": {},
   "source": [
    "`enumerate` takes a `start` argument, which tells the interpreter what value to start on - by default it is 0\n",
    "\n",
    "Those of you who have read ahead will know an easier way..."
   ]
  },
  {
   "cell_type": "code",
   "execution_count": 8,
   "metadata": {},
   "outputs": [
    {
     "name": "stdout",
     "output_type": "stream",
     "text": [
      "Found value 12 at 4\n"
     ]
    }
   ],
   "source": [
    "# define our list to search\n",
    "l = [1, 3, 4, 7, 12, 19, 25]\n",
    "\n",
    "# the in operator implements a search for a value\n",
    "if 12 in l:\n",
    "    # the index accessor on an iterable returns the first location the value is found\n",
    "    print(\"Found value\", search_value, \"at position\", l.index(12))  \n",
    "else:\n",
    "    print(\"Didn't find value\", search_value, \"in\", l)"
   ]
  },
  {
   "cell_type": "markdown",
   "metadata": {},
   "source": [
    "Now, an exercise for you!  Using what we've discussed prior, create the code to work out the mean for the following list:"
   ]
  },
  {
   "cell_type": "code",
   "execution_count": null,
   "metadata": {},
   "outputs": [],
   "source": [
    "c = [23, -57, -87, -17, 29, -5, 22, 66, -52, -9, 63, -47, 64, -83, 55, -15, 91, 39, -66, -28, 34, -65, 42, -94, 62, 1, 71, -79, -29, -32, 45, -50, -51, 5, -39, 45, -29, -38, -70, -58, -57, 35, -18, -72, -43, -34, -63, 74, -36, 70]\n"
   ]
  },
  {
   "cell_type": "markdown",
   "metadata": {},
   "source": [
    "### List comprehensions\n",
    "List comprehensions are a bit of syntatic sugar, it allows you to create a list according to a function.  As an example; if we wanted to get all the positive values for `c` we can use the following list comprehension"
   ]
  },
  {
   "cell_type": "code",
   "execution_count": null,
   "metadata": {},
   "outputs": [],
   "source": [
    "positive_c = [x for x in c if x >= 0]"
   ]
  },
  {
   "cell_type": "markdown",
   "metadata": {},
   "source": [
    "Or, get the absolute values for all the elements (note, this doesn't change the original list)"
   ]
  },
  {
   "cell_type": "code",
   "execution_count": null,
   "metadata": {},
   "outputs": [],
   "source": [
    "abs_val = [abs(x) for x in c]  # abs is a python builtin to take the absolute value"
   ]
  },
  {
   "cell_type": "markdown",
   "metadata": {},
   "source": [
    "## Dictionaries\n",
    "Dictionaries are a way of maintaining a key, value set as a variable.  They are created as follows:"
   ]
  },
  {
   "cell_type": "code",
   "execution_count": 2,
   "metadata": {},
   "outputs": [
    {
     "name": "stdout",
     "output_type": "stream",
     "text": [
      "['Tomato', 'Pear', 'Apple']\n",
      "['Carrot', 'Parsnip']\n"
     ]
    },
    {
     "ename": "KeyError",
     "evalue": "'Pet'",
     "output_type": "error",
     "traceback": [
      "\u001b[0;31m---------------------------------------------------------------------------\u001b[0m",
      "\u001b[0;31mKeyError\u001b[0m                                  Traceback (most recent call last)",
      "\u001b[0;32m<ipython-input-2-9acf3c3c5278>\u001b[0m in \u001b[0;36m<module>\u001b[0;34m\u001b[0m\n\u001b[1;32m      6\u001b[0m \u001b[0;34m\u001b[0m\u001b[0m\n\u001b[1;32m      7\u001b[0m \u001b[0;31m# Asking for a missing value using the [] lookup will raise a KeyError\u001b[0m\u001b[0;34m\u001b[0m\u001b[0;34m\u001b[0m\u001b[0;34m\u001b[0m\u001b[0m\n\u001b[0;32m----> 8\u001b[0;31m \u001b[0mprint\u001b[0m\u001b[0;34m(\u001b[0m\u001b[0mt\u001b[0m\u001b[0;34m[\u001b[0m\u001b[0;34m\"Pet\"\u001b[0m\u001b[0;34m]\u001b[0m\u001b[0;34m)\u001b[0m\u001b[0;34m\u001b[0m\u001b[0;34m\u001b[0m\u001b[0m\n\u001b[0m",
      "\u001b[0;31mKeyError\u001b[0m: 'Pet'"
     ]
    }
   ],
   "source": [
    "t = {\"Fruit\": [\"Tomato\", \"Pear\", \"Apple\"], \"Vegetable\": [\"Carrot\", \"Parsnip\"]}\n",
    "\n",
    "# the accessors for a dictionary are the keys:\n",
    "print(t[\"Fruit\"])\n",
    "print(t[\"Vegetable\"])\n",
    "\n",
    "# Asking for a missing value using the [] lookup will raise a KeyError\n",
    "print(t[\"Pet\"])"
   ]
  },
  {
   "cell_type": "code",
   "execution_count": 3,
   "metadata": {},
   "outputs": [
    {
     "name": "stdout",
     "output_type": "stream",
     "text": [
      "[]\n",
      "None\n"
     ]
    }
   ],
   "source": [
    "# However, there is another way of accessing elements from a dict\n",
    "print(t.get(\"Pet\", []))\n",
    "# The `get` syntax tries to get the value for the key, but if it's not found it will return a default value\n",
    "#  in this case an empty list because that's what was passed - but it will default to None\n",
    "print(t.get(\"Pet\"))"
   ]
  },
  {
   "cell_type": "markdown",
   "metadata": {},
   "source": [
    "Dictionaries are a pretty useful data structure, especially for processing nested data.  \n",
    "\n",
    "There are some nice accessors that make life pretty simple"
   ]
  },
  {
   "cell_type": "code",
   "execution_count": 14,
   "metadata": {},
   "outputs": [
    {
     "name": "stdout",
     "output_type": "stream",
     "text": [
      "['Dog', 'Cat', 'Budgie', 'Dog', 'Cat', 'Budgie']\n",
      "['Mac', 'PC', 'Commodore64']\n"
     ]
    }
   ],
   "source": [
    "# setdefault will return the value if it is set, but if it is not it will create a new value and set it to the \n",
    "# value passed as the second argument\n",
    "print(t.get(\"Pet\"))\n",
    "\n",
    "for pet in (\"Dog\", \"Cat\", \"Budgie\"):\n",
    "    t.setdefault(\"Pet\", []).append(pet)\n",
    "\n",
    "print(t[\"Pet\"])\n",
    "\n",
    "# you can create a dictionary using the dict keyword\n",
    "p = dict(mobile_phones=[\"Apple\", \"Samsung\", \"Google\"])\n",
    "print(p)\n",
    "\n",
    "# update will merge two dictionaries together\n",
    "c = dict(Computer=[\"Mac\", \"PC\", \"Commodore64\"]) # this is another way of creating a dictionary\n",
    "t.update(c)\n",
    "\n",
    "print(t[\"Computer\"])"
   ]
  },
  {
   "cell_type": "markdown",
   "metadata": {},
   "source": [
    "Loops with dictionaries are a little different"
   ]
  },
  {
   "cell_type": "code",
   "execution_count": 15,
   "metadata": {},
   "outputs": [
    {
     "name": "stdout",
     "output_type": "stream",
     "text": [
      "Fruit -> ['Tomato', 'Pear', 'Apple']\n",
      "Vegetable -> ['Carrot', 'Parsnip']\n",
      "Pet -> ['Dog', 'Cat', 'Budgie', 'Dog', 'Cat', 'Budgie']\n",
      "Computer -> ['Mac', 'PC', 'Commodore64']\n",
      "Fruit\n",
      "Vegetable\n",
      "Pet\n",
      "Computer\n",
      "['Tomato', 'Pear', 'Apple']\n",
      "['Carrot', 'Parsnip']\n",
      "['Dog', 'Cat', 'Budgie', 'Dog', 'Cat', 'Budgie']\n",
      "['Mac', 'PC', 'Commodore64']\n"
     ]
    }
   ],
   "source": [
    "# items returns a tuple of key and value pairs\n",
    "for category, values in t.items():\n",
    "    print(category, \"->\", values)\n",
    "\n",
    "# keys returns the list of keys\n",
    "for category in t.keys():\n",
    "    print(category)\n",
    "\n",
    "# values returns a list of the values\n",
    "for values in t.values():\n",
    "    print(values)\n"
   ]
  },
  {
   "cell_type": "markdown",
   "metadata": {},
   "source": [
    "The `in` accessor defaults to using the keys"
   ]
  },
  {
   "cell_type": "code",
   "execution_count": 17,
   "metadata": {},
   "outputs": [
    {
     "name": "stdout",
     "output_type": "stream",
     "text": [
      "True\n",
      "False\n",
      "False\n"
     ]
    }
   ],
   "source": [
    "print(\"Computer\" in t)\n",
    "print(\"Astronaut\" in t)\n",
    "print(\"Parsnip\" in t)"
   ]
  },
  {
   "cell_type": "markdown",
   "metadata": {},
   "source": [
    "## Sets\n",
    "\n",
    "Sets are a type of collection, but make the use of set operations much more straight forward.  \n"
   ]
  },
  {
   "cell_type": "code",
   "execution_count": 5,
   "metadata": {},
   "outputs": [
    {
     "name": "stdout",
     "output_type": "stream",
     "text": [
      "{1, 3, 5, 7, 9}\n",
      "{1, 3}\n",
      "{9, 5, 7}\n",
      "False\n",
      "{1, 2, 3, 5, 7, 9, 12, 15}\n"
     ]
    }
   ],
   "source": [
    "a = [1, 1, 3, 5, 7, 9]\n",
    "b = [1, 2, 3, 12, 15]\n",
    "\n",
    "# note the deduplication\n",
    "print(set(a))\n",
    "\n",
    "# intersection\n",
    "print(set(a).intersection(set(b)))\n",
    "\n",
    "# difference\n",
    "print(set(a).difference(set(b)))\n",
    "\n",
    "# disjoint\n",
    "print(set(a).isdisjoint(set(b)))\n",
    "\n",
    "# union\n",
    "print(set(a).union(set(b)))"
   ]
  },
  {
   "cell_type": "markdown",
   "metadata": {},
   "source": [
    "## Gotchas\n",
    "\n",
    "A few things you should be aware of and plan to mitigate against.\n",
    "\n",
    "### Inherent Truthiness in Python\n",
    "\n",
    "In other languages only boolean or 1/0 types can be used for tests of truth.  Python can be a little more flexible"
   ]
  },
  {
   "cell_type": "code",
   "execution_count": 18,
   "metadata": {},
   "outputs": [
    {
     "name": "stdout",
     "output_type": "stream",
     "text": [
      "A is True\n",
      "A is True\n",
      "A is True\n"
     ]
    }
   ],
   "source": [
    "a = True\n",
    "\n",
    "if a:\n",
    "    print(\"A is True\")\n",
    "\n",
    "a = 1\n",
    "\n",
    "if a:\n",
    "    print(\"A is True\")\n",
    "\n",
    "a = \"False\"\n",
    "\n",
    "if a:\n",
    "    print(\"A is True\")"
   ]
  },
  {
   "cell_type": "code",
   "execution_count": 19,
   "metadata": {},
   "outputs": [
    {
     "name": "stdout",
     "output_type": "stream",
     "text": [
      "A is False\n",
      "A is False\n",
      "A is False\n"
     ]
    }
   ],
   "source": [
    "a = False\n",
    "\n",
    "if not a:\n",
    "    print(\"A is False\")\n",
    "\n",
    "a = 0\n",
    "if not a:\n",
    "    print(\"A is False\")\n",
    "\n",
    "a = \"\"\n",
    "if not a:\n",
    "    print(\"A is False\")\n",
    "\n"
   ]
  },
  {
   "cell_type": "markdown",
   "metadata": {},
   "source": [
    "You don't have to initialise a variable in Python; in cases where you might want to protect your program you can initialise a variable with a value `None`.  You can then use `a is None` or `a is not None` to establish that a variable has been set or otherwise. "
   ]
  },
  {
   "cell_type": "markdown",
   "metadata": {},
   "source": [
    "### "
   ]
  }
 ],
 "metadata": {
  "kernelspec": {
   "display_name": "Python 3",
   "language": "python",
   "name": "python3"
  },
  "language_info": {
   "codemirror_mode": {
    "name": "ipython",
    "version": 3
   },
   "file_extension": ".py",
   "mimetype": "text/x-python",
   "name": "python",
   "nbconvert_exporter": "python",
   "pygments_lexer": "ipython3",
   "version": "3.7.4"
  },
  "pycharm": {
   "stem_cell": {
    "cell_type": "raw",
    "metadata": {
     "collapsed": false
    },
    "source": []
   }
  }
 },
 "nbformat": 4,
 "nbformat_minor": 1
}

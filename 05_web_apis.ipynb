{
 "cells": [
  {
   "cell_type": "markdown",
   "metadata": {
    "collapsed": true
   },
   "source": [
    "# Using the web in Python\n",
    "\n",
    "In many cases, the data you may need as an input to your program doesn't make sense to have sitting around all the time; this may be because the data itself changes frequently or it is unnnecessary to store all the data.  \n",
    "\n",
    "Examples of APIs we might use:\n",
    "* [CDISC API](https://www.cdisc.org/cdisc-library/api-documentation)\n",
    "* [UMLS](https://documentation.uts.nlm.nih.gov/rest/home.html)\n",
    "* [HL7 FHIR](http://hl7.org/fhir/overview-dev.html)\n"
   ]
  },
  {
   "cell_type": "markdown",
   "metadata": {},
   "source": [
    "## A really short introduction to HTTP Protocols\n",
    "\n",
    "Broadly we use web APIs to get data from an endpoint or to update (add or modify) data on an endpoint.  I leave learning about RESTful web methods as an exercise for the reader.  For our case we are only interested in using Web APIs to get data; the HTTP Verb we will use is HTTP `GET`.\n",
    "\n",
    "However, one of the things people publishing resources on the Web need to consider are who should be able to access the resource; and with what permission their access should be (eg read only, read/write, write only).  How this is enabled in web applications is through users and roles.   The Role identifies the level of access (what permission on what resource) and the User is a representation of someone (or something) accessing the resource with the associated role.\n",
    "\n",
    "How we need to manage this from a client perspective is being able to authenticate as a user with the server and the user role is used to authorise access to the resource.  \n",
    "\n",
    "### HTTP Status codes\n",
    "HTTP access works via a request-response action; the client makes a request to the server, the server responds.  The client can inspect the response to establish whether the request was successful.  Response status codes are the primary way for this to happen; following are a few sample status codes to look out for.\n",
    "\n",
    "* **200** - OK - the request was successful\n",
    "* **400** - Client error - there was something wrong with your request (usually down to missing parameters or similar)\n",
    "* **401** - Unauthorised - the request needed a matching user authorisation which was either not supplied or did not match the stored values\n",
    "* **500** - Server error - there was an error on the server, this generally doesn't imply there is anything wrong with your request\n"
   ]
  },
  {
   "cell_type": "markdown",
   "metadata": {},
   "source": [
    "## Making HTTP requests using Python\n",
    "The Python StdLib includes the `urllib` module to help users create requests and handle responses.  However, most everyone uses the very excellent `requests` library.  The `requests` library makes the process of creating requests, sending requests and handling responses almost trivial.  \n",
    "\n",
    "Lets start out by searching for a Patient at a FHIR endpoint"
   ]
  },
  {
   "cell_type": "code",
   "execution_count": 4,
   "metadata": {},
   "outputs": [
    {
     "name": "stdout",
     "output_type": "stream",
     "text": [
      "Status Code: 200\n",
      "Content Type: application/fhir+json;charset=UTF-8\n",
      "Body: b'{\\n  \"resourceType\": \"Bundle\",\\n  \"id\": \"c4bf802a-2646-4a7e-afb8-f5c044d1a3c2\",\\n  \"meta\": {\\n    \"lastU'\n"
     ]
    }
   ],
   "source": [
    "import requests\n",
    "\n",
    "SERVER = \"https://api.logicahealth.org/terribleLizard/open\"\n",
    "\n",
    "PATIENTS = SERVER + \"/Patient\"\n",
    "\n",
    "# Get the response from the web endpoint\n",
    "response = requests.get(PATIENTS)\n",
    "\n",
    "print(\"Status Code:\", response.status_code)\n",
    "print(\"Content Type:\", response.headers['content-type'])\n",
    "print(\"Body (Truncated):\", response.content[:100])"
   ]
  },
  {
   "cell_type": "markdown",
   "metadata": {},
   "source": [
    "The FHIR endpoint returns JSON (a data format), we can unpack that automatically using the `json` method on the `requests.Response` object."
   ]
  },
  {
   "cell_type": "code",
   "execution_count": 8,
   "metadata": {},
   "outputs": [
    {
     "name": "stdout",
     "output_type": "stream",
     "text": [
      "<class 'dict'>\n",
      "Total count of patients: 68\n",
      "Count of patients in the message: 10\n"
     ]
    }
   ],
   "source": [
    "content = response.json()\n",
    "print(type(content))\n",
    "\n",
    "# get the total count of Patients\n",
    "print(\"Total count of patients:\", content.get(\"total\"))\n",
    "\n",
    "# how many patients did we get this time\n",
    "print(\"Count of patients in the message:\", len(content.get(\"entry\")))\n"
   ]
  },
  {
   "cell_type": "code",
   "execution_count": null,
   "metadata": {},
   "outputs": [],
   "source": []
  }
 ],
 "metadata": {
  "kernelspec": {
   "display_name": "Python 3",
   "language": "python",
   "name": "python3"
  },
  "language_info": {
   "codemirror_mode": {
    "name": "ipython",
    "version": 3
   },
   "file_extension": ".py",
   "mimetype": "text/x-python",
   "name": "python",
   "nbconvert_exporter": "python",
   "pygments_lexer": "ipython3",
   "version": "3.7.4"
  }
 },
 "nbformat": 4,
 "nbformat_minor": 1
}

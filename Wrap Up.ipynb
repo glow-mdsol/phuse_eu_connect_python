{
 "cells": [
  {
   "cell_type": "markdown",
   "metadata": {},
   "source": [
    "# Wrap up!\n",
    "\n",
    "Hopefully you've been able to pick up some nuggets here to get you started.  \n",
    "\n",
    "A couple of following observations for you all:\n",
    "\n",
    "Python represents a fiercely pragmatic language - it adopts conventions that make sense for the community and some of those can be pretty contentious - the leap from Python2 to Python3 was a massive hit for many people, but if you ever had to work with unicode in Python2 you can appreciate why the pain was worth it.\n",
    "\n",
    "The governance for the language is an open process; proposals are made (Python Enhancement Proposals), reviewed and accepted or not.\n",
    "\n",
    "Always"
   ]
  }
 ],
 "metadata": {
  "kernelspec": {
   "display_name": "Python 3",
   "language": "python",
   "name": "python3"
  },
  "language_info": {
   "codemirror_mode": {
    "name": "ipython",
    "version": 3
   },
   "file_extension": ".py",
   "mimetype": "text/x-python",
   "name": "python",
   "nbconvert_exporter": "python",
   "pygments_lexer": "ipython3",
   "version": "3.7.4"
  }
 },
 "nbformat": 4,
 "nbformat_minor": 2
}
